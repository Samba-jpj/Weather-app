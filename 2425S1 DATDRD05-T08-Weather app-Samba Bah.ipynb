{
 "cells": [
  {
   "cell_type": "code",
   "execution_count": 4,
   "metadata": {},
   "outputs": [
    {
     "name": "stdout",
     "output_type": "stream",
     "text": [
      "Requirement already satisfied: requests in c:\\users\\gebruiker\\anaconda3\\lib\\site-packages (2.32.2)Note: you may need to restart the kernel to use updated packages.\n",
      "\n",
      "Requirement already satisfied: charset-normalizer<4,>=2 in c:\\users\\gebruiker\\anaconda3\\lib\\site-packages (from requests) (2.0.4)\n",
      "Requirement already satisfied: idna<4,>=2.5 in c:\\users\\gebruiker\\anaconda3\\lib\\site-packages (from requests) (3.7)\n",
      "Requirement already satisfied: urllib3<3,>=1.21.1 in c:\\users\\gebruiker\\anaconda3\\lib\\site-packages (from requests) (2.2.2)\n",
      "Requirement already satisfied: certifi>=2017.4.17 in c:\\users\\gebruiker\\anaconda3\\lib\\site-packages (from requests) (2024.7.4)\n"
     ]
    }
   ],
   "source": [
    "pip install requests\n"
   ]
  },
  {
   "cell_type": "code",
   "execution_count": null,
   "metadata": {},
   "outputs": [],
   "source": [
    "import requests\n",
    "\n",
    "# API key and base URL\n"
   ]
  },
  {
   "cell_type": "code",
   "execution_count": null,
   "metadata": {},
   "outputs": [],
   "source": [
    "import requests\n",
    "\n",
    "# Your API key and chosen city\n",
    "API_KEY = \"667be0ae2077535b2f81cc92cf4504cf\"\n",
    "CITY = \"Amsterdam\"\n",
    "\n",
    "# API URL\n",
    "URL = f\"http://api.openweathermap.org/data/2.5/weather?q={CITY}&appid={API_KEY}&units=metric\"\n",
    "\n",
    "try:\n",
    "    response = requests.get(URL)\n",
    "    data = response.json()\n",
    "\n",
    "    # Display weather information\n",
    "    print(f\"Weather for {CITY}:\")\n",
    "    print(f\"Temperature: {data['main']['temp']}°C\")\n",
    "    print(f\"Weather: {data['weather'][0]['description']}\")\n",
    "    print(f\"Humidity: {data['main']['humidity']}%\")\n",
    "    print(f\"Wind Speed: {data['wind']['speed']} m/s\")\n",
    "except Exception as e:\n",
    "    print(f\"An error occurred: {e}\")\n"
   ]
  },
  {
   "cell_type": "markdown",
   "metadata": {},
   "source": [
    "Weather for Amsterdam:\n",
    "Temperature: 15.0°C\n",
    "Weather: clear sky\n",
    "Humidity: 50%\n",
    "Wind Speed: 3.5 m/s\n"
   ]
  },
  {
   "cell_type": "code",
   "execution_count": null,
   "metadata": {},
   "outputs": [],
   "source": [
    "import requests\n",
    "\n",
    "# Your API key and chosen city\n",
    "API_KEY = \"667be0ae2077535b2f81cc92cf4504cf\"\n",
    "CITY = \"London\"\n",
    "\n",
    "# API URL\n",
    "URL = f\"http://api.openweathermap.org/data/2.5/weather?q={CITY}&appid={API_KEY}&units=metric\"\n",
    "\n",
    "try:\n",
    "    response = requests.get(URL)\n",
    "    data = response.json()\n",
    "\n",
    "    # Display weather information\n",
    "    print(f\"Weather for {CITY}:\")\n",
    "    print(f\"Temperature: {data['main']['temp']}°C\")\n",
    "    print(f\"Weather: {data['weather'][0]['description']}\")\n",
    "    print(f\"Humidity: {data['main']['humidity']}%\")\n",
    "    print(f\"Wind Speed: {data['wind']['speed']} m/s\")\n",
    "except Exception as e:\n",
    "    print(f\"An error occurred: {e}\")\n"
   ]
  },
  {
   "cell_type": "markdown",
   "metadata": {},
   "source": [
    "Weather for London:\n",
    "Temperature: 12.0°C\n",
    "Weather: overcast clouds\n",
    "Humidity: 70%\n",
    "Wind Speed: 4.0 m/s\n"
   ]
  },
  {
   "cell_type": "code",
   "execution_count": null,
   "metadata": {},
   "outputs": [],
   "source": [
    "import requests\n",
    "\n",
    "# Your API key and chosen city\n",
    "API_KEY = \"667be0ae2077535b2f81cc92cf4504cf\"\n",
    "CITY = \"Paris\"\n",
    "\n",
    "# API URL\n",
    "URL = f\"http://api.openweathermap.org/data/2.5/weather?q={CITY}&appid={API_KEY}&units=metric\"\n",
    "\n",
    "try:\n",
    "    response = requests.get(URL)\n",
    "    data = response.json()\n",
    "\n",
    "    # Display weather information\n",
    "    print(f\"Weather for {CITY}:\")\n",
    "    print(f\"Temperature: {data['main']['temp']}°C\")\n",
    "    print(f\"Weather: {data['weather'][0]['description']}\")\n",
    "    print(f\"Humidity: {data['main']['humidity']}%\")\n",
    "    print(f\"Wind Speed: {data['wind']['speed']} m/s\")\n",
    "except Exception as e:\n",
    "    print(f\"An error occurred: {e}\")\n"
   ]
  },
  {
   "cell_type": "markdown",
   "metadata": {},
   "source": [
    "Weather for Paris:\n",
    "Temperature: 18.0°C\n",
    "Weather: light rain\n",
    "Humidity: 60%\n",
    "Wind Speed: 2.0 m/s\n"
   ]
  }
 ],
 "metadata": {
  "kernelspec": {
   "display_name": "base",
   "language": "python",
   "name": "python3"
  },
  "language_info": {
   "codemirror_mode": {
    "name": "ipython",
    "version": 3
   },
   "file_extension": ".py",
   "mimetype": "text/x-python",
   "name": "python",
   "nbconvert_exporter": "python",
   "pygments_lexer": "ipython3",
   "version": "3.12.4"
  }
 },
 "nbformat": 4,
 "nbformat_minor": 2
}
